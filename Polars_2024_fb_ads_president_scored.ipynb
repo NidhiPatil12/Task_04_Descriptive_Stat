{
 "cells": [
  {
   "cell_type": "code",
   "execution_count": 1,
   "id": "b0769ce8-f127-4997-85e6-4c6810a0d871",
   "metadata": {},
   "outputs": [],
   "source": [
    "import polars as pl\n",
    "import sys\n",
    "\n",
    "# File paths\n",
    "input_file = r\"C:\\Study\\SYRACUSE\\RA\\Assignment 1\\period_03\\2024_fb_ads_president_scored_anon.csv\"\n",
    "output_file = \"Output_Polars_fb_ads_stats.txt\"\n",
    "\n",
    "def print_section(title):\n",
    "    print(f\"\\n{'=' * 25}\\n{title}\\n{'=' * 25}\")\n",
    "\n",
    "def main():\n",
    "    with open(output_file, \"w\", encoding=\"utf-8\") as f:\n",
    "        sys.stdout = f\n",
    "\n",
    "        # Load the dataset\n",
    "        df = pl.read_csv(input_file)\n",
    "\n",
    "        \n",
    "        numeric_cols = [\"estimated_audience_size\", \"estimated_impressions\", \"scam_illuminating\"]\n",
    "        for col in numeric_cols:\n",
    "            if col in df.columns:\n",
    "                df = df.with_columns(pl.col(col).cast(pl.Float64, strict=False))\n",
    "\n",
    "       \n",
    "        print_section(\"Descriptive Statistics for Entire Dataset\")\n",
    "        print(df.describe())\n",
    "\n",
    "       \n",
    "        print_section(\"Top 3 Most Common page_id Values\")\n",
    "        top_pages = df.group_by(\"page_id\").len().sort(\"len\", descending=True).head(3)\n",
    "        print(top_pages)\n",
    "\n",
    "        \n",
    "        print_section(\"Grouped by page_id (first 3 groups)\")\n",
    "        unique_page_ids = df.select(\"page_id\").unique().to_series().to_list()\n",
    "        for i, page_id in enumerate(unique_page_ids[:3]):\n",
    "            print(f\"\\nGroup: page_id = {page_id}\")\n",
    "            group_df = df.filter(pl.col(\"page_id\") == page_id)\n",
    "            print(group_df.describe())\n",
    "\n",
    "        \n",
    "        print_section(\"Grouped by page_id and ad_id (first 3 groups)\")\n",
    "        unique_combos = df.select([\"page_id\", \"ad_id\"]).unique().to_dict(as_series=False)\n",
    "        for i in range(min(3, len(unique_combos[\"page_id\"]))):\n",
    "            page = unique_combos[\"page_id\"][i]\n",
    "            ad = unique_combos[\"ad_id\"][i]\n",
    "            group_df = df.filter((pl.col(\"page_id\") == page) & (pl.col(\"ad_id\") == ad))\n",
    "            print(f\"\\nGroup: page_id = {page}, ad_id = {ad}\")\n",
    "            print(group_df.describe())\n",
    "\n",
    "        print_section(\"Script Completed\")\n",
    "        print(\"All descriptive stats and groupings printed successfully.\")\n",
    "        sys.stdout = sys.__stdout__\n",
    "\n",
    "if __name__ == \"__main__\":\n",
    "    main()\n"
   ]
  },
  {
   "cell_type": "code",
   "execution_count": null,
   "id": "289f619f-5d0e-4f93-a8d8-4cdc56e1793b",
   "metadata": {},
   "outputs": [],
   "source": []
  }
 ],
 "metadata": {
  "kernelspec": {
   "display_name": "Python 3 (ipykernel)",
   "language": "python",
   "name": "python3"
  },
  "language_info": {
   "codemirror_mode": {
    "name": "ipython",
    "version": 3
   },
   "file_extension": ".py",
   "mimetype": "text/x-python",
   "name": "python",
   "nbconvert_exporter": "python",
   "pygments_lexer": "ipython3",
   "version": "3.13.5"
  }
 },
 "nbformat": 4,
 "nbformat_minor": 5
}
