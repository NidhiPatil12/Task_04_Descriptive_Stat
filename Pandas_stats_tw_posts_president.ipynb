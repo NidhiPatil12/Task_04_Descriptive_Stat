{
 "cells": [
  {
   "cell_type": "code",
   "execution_count": 1,
   "id": "623d2394-2650-4908-99d4-3e23343914dd",
   "metadata": {},
   "outputs": [],
   "source": [
    "import pandas as pd\n",
    "import sys\n",
    "\n",
    "# === File paths ===\n",
    "input_file = r\"C:\\Study\\SYRACUSE\\RA\\Assignment 1\\period_03\\2024_tw_posts_president_scored_anon.csv\"\n",
    "output_file = \"Output_Pandas_tw_posts.txt\"\n",
    "\n",
    "def print_section(title):\n",
    "    print(f\"\\n{'=' * 25}\\n{title}\\n{'=' * 25}\")\n",
    "\n",
    "def format_stats(df):\n",
    "    return df.describe(include='all').transpose().round(2).to_string()\n",
    "\n",
    "def main():\n",
    "    with open(output_file, \"w\", encoding=\"utf-8\") as f:\n",
    "        sys.stdout = f\n",
    "\n",
    "        df = pd.read_csv(input_file)\n",
    "\n",
    "        \n",
    "        pd.set_option('display.max_columns', None)\n",
    "        pd.set_option('display.width', 180)\n",
    "\n",
    "        print_section(\"Descriptive Statistics for Entire Dataset\")\n",
    "        print(format_stats(df))\n",
    "\n",
    "        print_section(\"Top 3 Value Counts for Non-Numeric Columns\")\n",
    "        for col in df.select_dtypes(include='object').columns:\n",
    "            print(f\"\\nColumn: {col}\")\n",
    "            print(df[col].value_counts(dropna=False).head(3).to_string())\n",
    "\n",
    "        print_section(\"Grouped by source (first 3 groups)\")\n",
    "        for i, (source, group) in enumerate(df.groupby(\"source\")):\n",
    "            print(f\"\\n--- Group: source = {source} ---\")\n",
    "            print(format_stats(group))\n",
    "            if i >= 2:\n",
    "                break\n",
    "\n",
    "        print_section(\"Script Completed\")\n",
    "        sys.stdout = sys.__stdout__\n",
    "\n",
    "if __name__ == \"__main__\":\n",
    "    main()\n"
   ]
  },
  {
   "cell_type": "code",
   "execution_count": null,
   "id": "b6bc6fed-5c08-4967-824f-70ef9c127992",
   "metadata": {},
   "outputs": [],
   "source": []
  }
 ],
 "metadata": {
  "kernelspec": {
   "display_name": "Python 3 (ipykernel)",
   "language": "python",
   "name": "python3"
  },
  "language_info": {
   "codemirror_mode": {
    "name": "ipython",
    "version": 3
   },
   "file_extension": ".py",
   "mimetype": "text/x-python",
   "name": "python",
   "nbconvert_exporter": "python",
   "pygments_lexer": "ipython3",
   "version": "3.13.5"
  }
 },
 "nbformat": 4,
 "nbformat_minor": 5
}
