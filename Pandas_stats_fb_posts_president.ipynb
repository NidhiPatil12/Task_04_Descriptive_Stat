{
 "cells": [
  {
   "cell_type": "code",
   "execution_count": 1,
   "id": "0bbf5820-c174-45fc-b3fe-2e63a47ab0d8",
   "metadata": {},
   "outputs": [],
   "source": [
    "import pandas as pd\n",
    "import sys\n",
    "\n",
    "# File path\n",
    "input_file = r\"C:\\Study\\SYRACUSE\\RA\\Assignment 1\\period_03\\2024_fb_posts_president_scored_anon.csv\"\n",
    "output_file = \"Output_Pandas_fb_posts.txt\"\n",
    "\n",
    "def print_section(title):\n",
    "    print(f\"\\n{'=' * 25}\\n{title}\\n{'=' * 25}\")\n",
    "\n",
    "def format_stats(df):\n",
    "    return df.describe(include='all').transpose().round(2).to_string()\n",
    "\n",
    "def main():\n",
    "    with open(output_file, \"w\", encoding=\"utf-8\") as f:\n",
    "        sys.stdout = f\n",
    "\n",
    "        df = pd.read_csv(input_file)\n",
    "\n",
    "        print_section(\"Column Names\")\n",
    "        print(\", \".join(df.columns))\n",
    "\n",
    "        print_section(\"Descriptive Statistics for Entire Dataset\")\n",
    "        print(format_stats(df))\n",
    "\n",
    "       \n",
    "        print_section(\"Top 3 Value Counts for Non-Numeric Columns\")\n",
    "        for col in df.select_dtypes(include='object').columns:\n",
    "            print(f\"\\nColumn: {col}\")\n",
    "            print(df[col].value_counts(dropna=False).head(3).to_string())\n",
    "\n",
    "        # Group by Facebook_Id\n",
    "        print_section(\"Grouped by Facebook_Id (first 3 groups)\")\n",
    "        for i, (facebook_id, group) in enumerate(df.groupby('Facebook_Id')):\n",
    "            print(f\"\\n--- Group: Facebook_Id = {facebook_id} ---\")\n",
    "            print(format_stats(group))\n",
    "            if i >= 2:\n",
    "                break\n",
    "\n",
    "        # Group by Facebook_Id and post_id\n",
    "        print_section(\"Grouped by Facebook_Id and post_id (first 3 groups)\")\n",
    "        for i, ((facebook_id, post_id), group) in enumerate(df.groupby(['Facebook_Id', 'post_id'])):\n",
    "            print(f\"\\n--- Group: Facebook_Id = {facebook_id}, post_id = {post_id} ---\")\n",
    "            print(format_stats(group))\n",
    "            if i >= 2:\n",
    "                break\n",
    "\n",
    "        print_section(\"Script Completed\")\n",
    "        print(\"Descriptive analysis complete and saved to file.\")\n",
    "        sys.stdout = sys.__stdout__\n",
    "\n",
    "if __name__ == \"__main__\":\n",
    "    main()\n"
   ]
  },
  {
   "cell_type": "code",
   "execution_count": null,
   "id": "6dca2e9e-9274-4e34-8b5a-7c0465a07051",
   "metadata": {},
   "outputs": [],
   "source": []
  }
 ],
 "metadata": {
  "kernelspec": {
   "display_name": "Python 3 (ipykernel)",
   "language": "python",
   "name": "python3"
  },
  "language_info": {
   "codemirror_mode": {
    "name": "ipython",
    "version": 3
   },
   "file_extension": ".py",
   "mimetype": "text/x-python",
   "name": "python",
   "nbconvert_exporter": "python",
   "pygments_lexer": "ipython3",
   "version": "3.13.5"
  }
 },
 "nbformat": 4,
 "nbformat_minor": 5
}
