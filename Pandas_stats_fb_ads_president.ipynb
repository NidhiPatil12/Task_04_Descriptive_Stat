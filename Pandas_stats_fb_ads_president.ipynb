{
 "cells": [
  {
   "cell_type": "code",
   "execution_count": 4,
   "id": "724a54d0-90d0-495e-bec8-edfad547d220",
   "metadata": {},
   "outputs": [],
   "source": [
    "import pandas as pd\n",
    "import sys\n",
    "\n",
    "# File path to the dataset\n",
    "filepath = r\"C:\\Study\\SYRACUSE\\RA\\Assignment 1\\period_03\\2024_fb_ads_president_scored_anon.csv\"\n",
    "output_path = \"Output_Pandas_fb_ads_stats.txt\"\n",
    "\n",
    "def print_section(title):\n",
    "    print(f\"\\n{'=' * 25}\\n{title}\\n{'=' * 25}\")\n",
    "\n",
    "def format_table(df, decimals=2):\n",
    "    return df.round(decimals).to_string()\n",
    "\n",
    "def main():\n",
    "    with open(output_path, 'w', encoding='utf-8') as f:\n",
    "        sys.stdout = f\n",
    "\n",
    "        df = pd.read_csv(filepath)\n",
    "\n",
    "        print_section(\"Dataset Columns\")\n",
    "        print(\", \".join(df.columns))\n",
    "\n",
    "        print_section(\"Numeric Columns Summary\")\n",
    "        numeric_df = df.select_dtypes(include='number')\n",
    "        print(format_table(numeric_df.describe().transpose(), decimals=2))\n",
    "\n",
    "        print_section(\"Non-Numeric Columns Summary (Top 3 Frequencies)\")\n",
    "        object_df = df.select_dtypes(include='object')\n",
    "        for col in object_df.columns:\n",
    "            print(f\"\\nColumn: {col}\")\n",
    "            val_counts = df[col].value_counts(dropna=False).head(3)\n",
    "            print(val_counts.to_string())\n",
    "\n",
    "        print_section(\"Grouped by page_id (first 3 shown)\")\n",
    "        for i, (pid, group) in enumerate(df.groupby('page_id')):\n",
    "            print(f\"\\n--- Group: page_id = {pid} ---\")\n",
    "            print(format_table(group.select_dtypes(include='number').describe().transpose()))\n",
    "            if i >= 2:\n",
    "                break\n",
    "\n",
    "        print_section(\"Grouped by page_id and ad_id (first 3 shown)\")\n",
    "        for i, ((pid, aid), group) in enumerate(df.groupby(['page_id', 'ad_id'])):\n",
    "            print(f\"\\n--- Group: page_id = {pid}, ad_id = {aid} ---\")\n",
    "            print(format_table(group.select_dtypes(include='number').describe().transpose()))\n",
    "            if i >= 2:\n",
    "                break\n",
    "\n",
    "        print_section(\"Script Completed\")\n",
    "        print(\"All stats written in formatted output.\")\n",
    "        sys.stdout = sys.__stdout__\n",
    "\n",
    "if __name__ == \"__main__\":\n",
    "    main()\n"
   ]
  },
  {
   "cell_type": "code",
   "execution_count": null,
   "id": "4446775b-a6f7-4a5c-b212-a66762d5326d",
   "metadata": {},
   "outputs": [],
   "source": []
  },
  {
   "cell_type": "code",
   "execution_count": null,
   "id": "67106f7b-b44c-4e2e-bed0-e955ce6414a0",
   "metadata": {},
   "outputs": [],
   "source": []
  },
  {
   "cell_type": "code",
   "execution_count": null,
   "id": "ca16c3e1-d85c-4274-ad9a-8eabd4743513",
   "metadata": {},
   "outputs": [],
   "source": []
  },
  {
   "cell_type": "code",
   "execution_count": null,
   "id": "ce518558-3a0d-4642-9e43-5248eb4c8e01",
   "metadata": {},
   "outputs": [],
   "source": []
  },
  {
   "cell_type": "code",
   "execution_count": null,
   "id": "93e92b5b-0a40-493f-b069-340f9aac5ec5",
   "metadata": {},
   "outputs": [],
   "source": []
  },
  {
   "cell_type": "code",
   "execution_count": null,
   "id": "a884847f-ed0f-4ee1-acc7-bf4f02981b00",
   "metadata": {},
   "outputs": [],
   "source": []
  },
  {
   "cell_type": "code",
   "execution_count": null,
   "id": "0ccbf2a3-4450-4e78-a0ff-a52fb559e8dc",
   "metadata": {},
   "outputs": [],
   "source": []
  }
 ],
 "metadata": {
  "kernelspec": {
   "display_name": "Python 3 (ipykernel)",
   "language": "python",
   "name": "python3"
  },
  "language_info": {
   "codemirror_mode": {
    "name": "ipython",
    "version": 3
   },
   "file_extension": ".py",
   "mimetype": "text/x-python",
   "name": "python",
   "nbconvert_exporter": "python",
   "pygments_lexer": "ipython3",
   "version": "3.13.5"
  }
 },
 "nbformat": 4,
 "nbformat_minor": 5
}
